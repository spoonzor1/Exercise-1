{
 "cells": [
  {
   "cell_type": "code",
   "execution_count": 23,
   "id": "40a989e1-bb50-4f2c-8853-2d34eba3e1cd",
   "metadata": {
    "tags": []
   },
   "outputs": [],
   "source": [
    "ice_cream_rating = 5.0\n",
    "sleeping_rating = 7.0"
   ]
  },
  {
   "cell_type": "code",
   "execution_count": 24,
   "id": "ebde1559-df00-4f58-a335-26fe0e57a37e",
   "metadata": {
    "tags": []
   },
   "outputs": [],
   "source": [
    "first_name = 'Mikael'"
   ]
  },
  {
   "cell_type": "code",
   "execution_count": 25,
   "id": "fbd1b624-c4d2-471e-a14c-7ee23743fa03",
   "metadata": {
    "tags": []
   },
   "outputs": [],
   "source": [
    "last_name = 'Backlund'"
   ]
  },
  {
   "cell_type": "code",
   "execution_count": 26,
   "id": "59fda75b-3996-4ebf-8af0-549660ddd8c1",
   "metadata": {
    "tags": []
   },
   "outputs": [],
   "source": [
    "my_name = 'Mikael Backlund'"
   ]
  },
  {
   "cell_type": "code",
   "execution_count": 30,
   "id": "e18cdc8f-302e-48c9-8011-1d8615f713d9",
   "metadata": {
    "tags": []
   },
   "outputs": [
    {
     "name": "stdout",
     "output_type": "stream",
     "text": [
      "6.0\n"
     ]
    }
   ],
   "source": [
    "happiness_rating = (sleeping_rating + ice_cream_rating) / 2\n",
    "print (happiness_rating)"
   ]
  },
  {
   "cell_type": "code",
   "execution_count": 36,
   "id": "a4da00cc-4883-46b5-83c8-0231771e787a",
   "metadata": {
    "tags": []
   },
   "outputs": [
    {
     "name": "stdout",
     "output_type": "stream",
     "text": [
      "<class 'float'> <class 'str'> <class 'float'>\n"
     ]
    }
   ],
   "source": [
    "print(type(ice_cream_rating), type(first_name), type(happiness_rating))"
   ]
  },
  {
   "cell_type": "markdown",
   "id": "e37f1926-fa5a-4b71-bae0-7b9bff12b870",
   "metadata": {
    "tags": []
   },
   "source": [
    "#This was expected, string for names and float for numbers with decimals"
   ]
  },
  {
   "cell_type": "code",
   "execution_count": 44,
   "id": "1a4a84eb-7c5b-44e8-979d-e24399766558",
   "metadata": {
    "tags": []
   },
   "outputs": [
    {
     "name": "stdout",
     "output_type": "stream",
     "text": [
      "My name is Backlund and i give eating ice cream a score out of 5.0 out of 10! \n",
      " I am  Mikael Backlund and my sleeping enjoyment rating is 7.0 out of 10! \n",
      " Based on the factors above, my happiness rating is 6.0 out of 10!, or 60.0 % out of 100 %!\n"
     ]
    }
   ],
   "source": [
    "print(\"My name is\", last_name, \"and i give eating ice cream a score out of\", ice_cream_rating, \"out of 10!\",'\\n',\"I am \", my_name, \"and my sleeping enjoyment rating is\", sleeping_rating, \"out of 10!\",'\\n',\n",
    "      \"Based on the factors above, my happiness rating is\", happiness_rating, \"out of 10!, or\", happiness_rating * 10, \"% out of 100 %!\")"
   ]
  },
  {
   "cell_type": "code",
   "execution_count": null,
   "id": "99a3f45a-3dbd-44ad-a3b5-3f47a8fdd2c2",
   "metadata": {},
   "outputs": [],
   "source": []
  }
 ],
 "metadata": {
  "kernelspec": {
   "display_name": "Python 3 (ipykernel)",
   "language": "python",
   "name": "python3"
  },
  "language_info": {
   "codemirror_mode": {
    "name": "ipython",
    "version": 3
   },
   "file_extension": ".py",
   "mimetype": "text/x-python",
   "name": "python",
   "nbconvert_exporter": "python",
   "pygments_lexer": "ipython3",
   "version": "3.10.12"
  }
 },
 "nbformat": 4,
 "nbformat_minor": 5
}
